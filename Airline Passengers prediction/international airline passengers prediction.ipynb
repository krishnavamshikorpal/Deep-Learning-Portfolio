{
 "cells": [
  {
   "cell_type": "code",
   "execution_count": null,
   "id": "a6773817",
   "metadata": {},
   "outputs": [],
   "source": []
  },
  {
   "cell_type": "code",
   "execution_count": 237,
   "id": "43970ed9",
   "metadata": {},
   "outputs": [],
   "source": [
    "import pandas as pd\n",
    "import numpy as np\n",
    "import matplotlib.pyplot as plt\n",
    "%matplotlib inline\n",
    "import tensorflow as tf\n",
    "from tensorflow import keras\n",
    "from tensorflow.keras import layers\n",
    "from tensorflow.keras.models import Sequential\n",
    "from tensorflow.keras.layers import Dense\n",
    "import math"
   ]
  },
  {
   "cell_type": "markdown",
   "id": "47db24eb",
   "metadata": {},
   "source": [
    "**The problem we are going to look at in this post is the international airline passengers prediction problem.**\n",
    "\n",
    "**This is a problem where given a year and a month, the task is to predict the number of international airline passengers in units of 1,000. The data ranges from January 1949 to December 1960 or 12 years, with 144 observations.**"
   ]
  },
  {
   "cell_type": "code",
   "execution_count": 238,
   "id": "4efd42e6",
   "metadata": {},
   "outputs": [
    {
     "data": {
      "text/html": [
       "<div>\n",
       "<style scoped>\n",
       "    .dataframe tbody tr th:only-of-type {\n",
       "        vertical-align: middle;\n",
       "    }\n",
       "\n",
       "    .dataframe tbody tr th {\n",
       "        vertical-align: top;\n",
       "    }\n",
       "\n",
       "    .dataframe thead th {\n",
       "        text-align: right;\n",
       "    }\n",
       "</style>\n",
       "<table border=\"1\" class=\"dataframe\">\n",
       "  <thead>\n",
       "    <tr style=\"text-align: right;\">\n",
       "      <th></th>\n",
       "      <th>Month</th>\n",
       "      <th>passengers</th>\n",
       "    </tr>\n",
       "  </thead>\n",
       "  <tbody>\n",
       "    <tr>\n",
       "      <th>0</th>\n",
       "      <td>1949-01</td>\n",
       "      <td>112.0</td>\n",
       "    </tr>\n",
       "    <tr>\n",
       "      <th>1</th>\n",
       "      <td>1949-02</td>\n",
       "      <td>118.0</td>\n",
       "    </tr>\n",
       "    <tr>\n",
       "      <th>2</th>\n",
       "      <td>1949-03</td>\n",
       "      <td>132.0</td>\n",
       "    </tr>\n",
       "    <tr>\n",
       "      <th>3</th>\n",
       "      <td>1949-04</td>\n",
       "      <td>129.0</td>\n",
       "    </tr>\n",
       "    <tr>\n",
       "      <th>4</th>\n",
       "      <td>1949-05</td>\n",
       "      <td>121.0</td>\n",
       "    </tr>\n",
       "  </tbody>\n",
       "</table>\n",
       "</div>"
      ],
      "text/plain": [
       "     Month  passengers\n",
       "0  1949-01       112.0\n",
       "1  1949-02       118.0\n",
       "2  1949-03       132.0\n",
       "3  1949-04       129.0\n",
       "4  1949-05       121.0"
      ]
     },
     "execution_count": 238,
     "metadata": {},
     "output_type": "execute_result"
    }
   ],
   "source": [
    "df = pd.read_csv(\"international-airline-passengers.csv\")\n",
    "df.head()"
   ]
  },
  {
   "cell_type": "code",
   "execution_count": 239,
   "id": "fa06392a",
   "metadata": {},
   "outputs": [
    {
     "data": {
      "text/plain": [
       "Month         1\n",
       "passengers    2\n",
       "dtype: int64"
      ]
     },
     "execution_count": 239,
     "metadata": {},
     "output_type": "execute_result"
    }
   ],
   "source": [
    "df.isnull().sum()"
   ]
  },
  {
   "cell_type": "code",
   "execution_count": 240,
   "id": "c31aa277",
   "metadata": {},
   "outputs": [],
   "source": [
    "df=df.dropna(axis=0, how='any', thresh=None, subset=None, inplace=False)"
   ]
  },
  {
   "cell_type": "markdown",
   "id": "ea4bef5e",
   "metadata": {},
   "source": [
    "**We are not interested in the date, given that each observation is separated by the same interval of one month. Therefore when we load the dataset we can drop the first column.**"
   ]
  },
  {
   "cell_type": "code",
   "execution_count": 241,
   "id": "4b72cfb5",
   "metadata": {},
   "outputs": [
    {
     "data": {
      "text/html": [
       "<div>\n",
       "<style scoped>\n",
       "    .dataframe tbody tr th:only-of-type {\n",
       "        vertical-align: middle;\n",
       "    }\n",
       "\n",
       "    .dataframe tbody tr th {\n",
       "        vertical-align: top;\n",
       "    }\n",
       "\n",
       "    .dataframe thead th {\n",
       "        text-align: right;\n",
       "    }\n",
       "</style>\n",
       "<table border=\"1\" class=\"dataframe\">\n",
       "  <thead>\n",
       "    <tr style=\"text-align: right;\">\n",
       "      <th></th>\n",
       "      <th>Month</th>\n",
       "      <th>passengers</th>\n",
       "    </tr>\n",
       "  </thead>\n",
       "  <tbody>\n",
       "    <tr>\n",
       "      <th>0</th>\n",
       "      <td>1949-01</td>\n",
       "      <td>112.0</td>\n",
       "    </tr>\n",
       "    <tr>\n",
       "      <th>1</th>\n",
       "      <td>1949-02</td>\n",
       "      <td>118.0</td>\n",
       "    </tr>\n",
       "    <tr>\n",
       "      <th>2</th>\n",
       "      <td>1949-03</td>\n",
       "      <td>132.0</td>\n",
       "    </tr>\n",
       "    <tr>\n",
       "      <th>3</th>\n",
       "      <td>1949-04</td>\n",
       "      <td>129.0</td>\n",
       "    </tr>\n",
       "    <tr>\n",
       "      <th>4</th>\n",
       "      <td>1949-05</td>\n",
       "      <td>121.0</td>\n",
       "    </tr>\n",
       "  </tbody>\n",
       "</table>\n",
       "</div>"
      ],
      "text/plain": [
       "     Month  passengers\n",
       "0  1949-01       112.0\n",
       "1  1949-02       118.0\n",
       "2  1949-03       132.0\n",
       "3  1949-04       129.0\n",
       "4  1949-05       121.0"
      ]
     },
     "execution_count": 241,
     "metadata": {},
     "output_type": "execute_result"
    }
   ],
   "source": [
    "#taking copy\n",
    "\n",
    "air = df.copy()\n",
    "air.head()"
   ]
  },
  {
   "cell_type": "code",
   "execution_count": 242,
   "id": "4edb4446",
   "metadata": {},
   "outputs": [
    {
     "data": {
      "text/html": [
       "<div>\n",
       "<style scoped>\n",
       "    .dataframe tbody tr th:only-of-type {\n",
       "        vertical-align: middle;\n",
       "    }\n",
       "\n",
       "    .dataframe tbody tr th {\n",
       "        vertical-align: top;\n",
       "    }\n",
       "\n",
       "    .dataframe thead th {\n",
       "        text-align: right;\n",
       "    }\n",
       "</style>\n",
       "<table border=\"1\" class=\"dataframe\">\n",
       "  <thead>\n",
       "    <tr style=\"text-align: right;\">\n",
       "      <th></th>\n",
       "      <th>passengers</th>\n",
       "    </tr>\n",
       "  </thead>\n",
       "  <tbody>\n",
       "    <tr>\n",
       "      <th>0</th>\n",
       "      <td>112.0</td>\n",
       "    </tr>\n",
       "    <tr>\n",
       "      <th>1</th>\n",
       "      <td>118.0</td>\n",
       "    </tr>\n",
       "    <tr>\n",
       "      <th>2</th>\n",
       "      <td>132.0</td>\n",
       "    </tr>\n",
       "    <tr>\n",
       "      <th>3</th>\n",
       "      <td>129.0</td>\n",
       "    </tr>\n",
       "    <tr>\n",
       "      <th>4</th>\n",
       "      <td>121.0</td>\n",
       "    </tr>\n",
       "  </tbody>\n",
       "</table>\n",
       "</div>"
      ],
      "text/plain": [
       "   passengers\n",
       "0       112.0\n",
       "1       118.0\n",
       "2       132.0\n",
       "3       129.0\n",
       "4       121.0"
      ]
     },
     "execution_count": 242,
     "metadata": {},
     "output_type": "execute_result"
    }
   ],
   "source": [
    "#dropping the month feature from data\n",
    "\n",
    "air.drop(columns=\"Month\", axis = 1, inplace = True)\n",
    "air.head()"
   ]
  },
  {
   "cell_type": "code",
   "execution_count": 243,
   "id": "bc60abc5",
   "metadata": {},
   "outputs": [
    {
     "data": {
      "image/png": "[encoded data removed]",
      "text/plain": [
       "<Figure size 1296x504 with 1 Axes>"
      ]
     },
     "metadata": {
      "needs_background": "light"
     },
     "output_type": "display_data"
    }
   ],
   "source": [
    "plt.figure(figsize=(18,7))\n",
    "plt.plot(air)\n",
    "plt.show()"
   ]
  },
  {
   "cell_type": "markdown",
   "id": "d7b16353",
   "metadata": {},
   "source": [
    "**You can see an upward trend in the plot.**\n",
    "\n",
    "**convert the integer values to floating point values which are more suitable for modeling with a neural network.**"
   ]
  },
  {
   "cell_type": "code",
   "execution_count": 244,
   "id": "e1d3476d",
   "metadata": {},
   "outputs": [],
   "source": [
    "air = air.values\n",
    "air = air.astype('float32')"
   ]
  },
  {
   "cell_type": "markdown",
   "id": "0442507f",
   "metadata": {},
   "source": [
    "**With time series data, the sequence of values is important. A simple method that we can use is to split the ordered dataset into train and test datasets. The code below calculates the index of the split point and separates the data into the training datasets with 67% of the observations that we can use to train our model, leaving the remaining 33% for testing the model.**"
   ]
  },
  {
   "cell_type": "code",
   "execution_count": 245,
   "id": "a1424ff4",
   "metadata": {},
   "outputs": [
    {
     "name": "stdout",
     "output_type": "stream",
     "text": [
      "Traing data size 96  | testing data size 48\n"
     ]
    }
   ],
   "source": [
    "#splitting data to train and test\n",
    "training_data = int(len(air)*0.67)\n",
    "test_data = len(air) - training_data\n",
    "train, test = air[0:training_data,:], air[training_data:len(air),:]\n",
    "print(\"Traing data size {0}  | testing data size {1}\".format(len(train), len(test)))"
   ]
  },
  {
   "cell_type": "code",
   "execution_count": 246,
   "id": "47acec6b",
   "metadata": {},
   "outputs": [
    {
     "name": "stdout",
     "output_type": "stream",
     "text": [
      "(96, 1) (48, 1)\n"
     ]
    }
   ],
   "source": [
    "print(train.shape, test.shape)"
   ]
  },
  {
   "cell_type": "code",
   "execution_count": 247,
   "id": "dbc97fc5",
   "metadata": {},
   "outputs": [],
   "source": [
    "# convert an array of values into a dataset matrix\n",
    "def create_dataset(dataset, look_back=1):\n",
    "    dataX, dataY = [], []\n",
    "    for i in range(len(dataset)-look_back-1):\n",
    "        a = dataset[i:(i+look_back), 0]\n",
    "        dataX.append(a)\n",
    "        dataY.append(dataset[i + look_back, 0])\n",
    "    return np.array(dataX), np.array(dataY)"
   ]
  },
  {
   "cell_type": "code",
   "execution_count": 248,
   "id": "f436028d",
   "metadata": {},
   "outputs": [],
   "source": [
    "# reshape into X=t and Y=t+1\n",
    "look_back = 10\n",
    "trainX, trainY = create_dataset(train, look_back)\n",
    "testX, testY = create_dataset(test, look_back)"
   ]
  },
  {
   "cell_type": "code",
   "execution_count": 249,
   "id": "b328ac2c",
   "metadata": {},
   "outputs": [
    {
     "name": "stdout",
     "output_type": "stream",
     "text": [
      "(85, 10)\n",
      "(85,)\n"
     ]
    },
    {
     "data": {
      "text/plain": [
       "(None, None)"
      ]
     },
     "execution_count": 249,
     "metadata": {},
     "output_type": "execute_result"
    }
   ],
   "source": [
    "print(trainX.shape), print(trainY.shape)"
   ]
  },
  {
   "cell_type": "code",
   "execution_count": 250,
   "id": "6358ec3a",
   "metadata": {},
   "outputs": [
    {
     "name": "stdout",
     "output_type": "stream",
     "text": [
      "(37, 10)\n",
      "(37,)\n"
     ]
    },
    {
     "data": {
      "text/plain": [
       "(None, None)"
      ]
     },
     "execution_count": 250,
     "metadata": {},
     "output_type": "execute_result"
    }
   ],
   "source": [
    "print(testX.shape), print(testY.shape)"
   ]
  },
  {
   "cell_type": "code",
   "execution_count": 251,
   "id": "5808ce6a",
   "metadata": {},
   "outputs": [
    {
     "name": "stdout",
     "output_type": "stream",
     "text": [
      "Epoch 1/400\n",
      "43/43 - 0s - loss: 16755.7168\n",
      "Epoch 2/400\n",
      "43/43 - 0s - loss: 760.8840\n",
      "Epoch 3/400\n",
      "43/43 - 0s - loss: 680.9128\n",
      "Epoch 4/400\n",
      "43/43 - 0s - loss: 675.3622\n",
      "Epoch 5/400\n",
      "43/43 - 0s - loss: 670.1926\n",
      "Epoch 6/400\n",
      "43/43 - 0s - loss: 628.7186\n",
      "Epoch 7/400\n",
      "43/43 - 0s - loss: 610.2935\n",
      "Epoch 8/400\n",
      "43/43 - 0s - loss: 609.4326\n",
      "Epoch 9/400\n",
      "43/43 - 0s - loss: 657.4070\n",
      "Epoch 10/400\n",
      "43/43 - 0s - loss: 566.9261\n",
      "Epoch 11/400\n",
      "43/43 - 0s - loss: 592.1190\n",
      "Epoch 12/400\n",
      "43/43 - 0s - loss: 569.5275\n",
      "Epoch 13/400\n",
      "43/43 - 0s - loss: 603.5087\n",
      "Epoch 14/400\n",
      "43/43 - 0s - loss: 550.1988\n",
      "Epoch 15/400\n",
      "43/43 - 0s - loss: 545.4868\n",
      "Epoch 16/400\n",
      "43/43 - 0s - loss: 564.6186\n",
      "Epoch 17/400\n",
      "43/43 - 0s - loss: 522.8715\n",
      "Epoch 18/400\n",
      "43/43 - 0s - loss: 527.2024\n",
      "Epoch 19/400\n",
      "43/43 - 0s - loss: 607.6595\n",
      "Epoch 20/400\n",
      "43/43 - 0s - loss: 517.8580\n",
      "Epoch 21/400\n",
      "43/43 - 0s - loss: 561.6325\n",
      "Epoch 22/400\n",
      "43/43 - 0s - loss: 482.7888\n",
      "Epoch 23/400\n",
      "43/43 - 0s - loss: 473.4691\n",
      "Epoch 24/400\n",
      "43/43 - 0s - loss: 464.8257\n",
      "Epoch 25/400\n",
      "43/43 - 0s - loss: 430.1875\n",
      "Epoch 26/400\n",
      "43/43 - 0s - loss: 454.5182\n",
      "Epoch 27/400\n",
      "43/43 - 0s - loss: 478.6436\n",
      "Epoch 28/400\n",
      "43/43 - 0s - loss: 431.9124\n",
      "Epoch 29/400\n",
      "43/43 - 0s - loss: 420.2410\n",
      "Epoch 30/400\n",
      "43/43 - 0s - loss: 416.0259\n",
      "Epoch 31/400\n",
      "43/43 - 0s - loss: 407.9311\n",
      "Epoch 32/400\n",
      "43/43 - 0s - loss: 428.8524\n",
      "Epoch 33/400\n",
      "43/43 - 0s - loss: 417.4873\n",
      "Epoch 34/400\n",
      "43/43 - 0s - loss: 424.7682\n",
      "Epoch 35/400\n",
      "43/43 - 0s - loss: 417.3803\n",
      "Epoch 36/400\n",
      "43/43 - 0s - loss: 432.3189\n",
      "Epoch 37/400\n",
      "43/43 - 0s - loss: 395.4091\n",
      "Epoch 38/400\n",
      "43/43 - 0s - loss: 362.9816\n",
      "Epoch 39/400\n",
      "43/43 - 0s - loss: 389.6342\n",
      "Epoch 40/400\n",
      "43/43 - 0s - loss: 374.8516\n",
      "Epoch 41/400\n",
      "43/43 - 0s - loss: 393.5707\n",
      "Epoch 42/400\n",
      "43/43 - 0s - loss: 347.9419\n",
      "Epoch 43/400\n",
      "43/43 - 0s - loss: 372.0944\n",
      "Epoch 44/400\n",
      "43/43 - 0s - loss: 354.2494\n",
      "Epoch 45/400\n",
      "43/43 - 0s - loss: 354.3945\n",
      "Epoch 46/400\n",
      "43/43 - 0s - loss: 354.7470\n",
      "Epoch 47/400\n",
      "43/43 - 0s - loss: 361.2833\n",
      "Epoch 48/400\n",
      "43/43 - 0s - loss: 348.6104\n",
      "Epoch 49/400\n",
      "43/43 - 0s - loss: 362.5302\n",
      "Epoch 50/400\n",
      "43/43 - 0s - loss: 323.8940\n",
      "Epoch 51/400\n",
      "43/43 - 0s - loss: 343.8595\n",
      "Epoch 52/400\n",
      "43/43 - 0s - loss: 346.1148\n",
      "Epoch 53/400\n",
      "43/43 - 0s - loss: 326.6823\n",
      "Epoch 54/400\n",
      "43/43 - 0s - loss: 344.6544\n",
      "Epoch 55/400\n",
      "43/43 - 0s - loss: 333.0246\n",
      "Epoch 56/400\n",
      "43/43 - 0s - loss: 325.5063\n",
      "Epoch 57/400\n",
      "43/43 - 0s - loss: 310.2373\n",
      "Epoch 58/400\n",
      "43/43 - 0s - loss: 306.4825\n",
      "Epoch 59/400\n",
      "43/43 - 0s - loss: 300.8263\n",
      "Epoch 60/400\n",
      "43/43 - 0s - loss: 337.3265\n",
      "Epoch 61/400\n",
      "43/43 - 0s - loss: 315.6802\n",
      "Epoch 62/400\n",
      "43/43 - 0s - loss: 331.9391\n",
      "Epoch 63/400\n",
      "43/43 - 0s - loss: 319.1673\n",
      "Epoch 64/400\n",
      "43/43 - 0s - loss: 312.9685\n",
      "Epoch 65/400\n",
      "43/43 - 0s - loss: 293.5067\n",
      "Epoch 66/400\n",
      "43/43 - 0s - loss: 285.8207\n",
      "Epoch 67/400\n",
      "43/43 - 0s - loss: 317.7951\n",
      "Epoch 68/400\n",
      "43/43 - 0s - loss: 292.5112\n",
      "Epoch 69/400\n",
      "43/43 - 0s - loss: 282.6485\n",
      "Epoch 70/400\n",
      "43/43 - 0s - loss: 277.9628\n",
      "Epoch 71/400\n",
      "43/43 - 0s - loss: 272.8933\n",
      "Epoch 72/400\n",
      "43/43 - 0s - loss: 308.5378\n",
      "Epoch 73/400\n",
      "43/43 - 0s - loss: 320.7788\n",
      "Epoch 74/400\n",
      "43/43 - 0s - loss: 258.6325\n",
      "Epoch 75/400\n",
      "43/43 - 0s - loss: 290.7838\n",
      "Epoch 76/400\n",
      "43/43 - 0s - loss: 293.1263\n",
      "Epoch 77/400\n",
      "43/43 - 0s - loss: 254.9111\n",
      "Epoch 78/400\n",
      "43/43 - 0s - loss: 261.3857\n",
      "Epoch 79/400\n",
      "43/43 - 0s - loss: 247.1013\n",
      "Epoch 80/400\n",
      "43/43 - 0s - loss: 249.3463\n",
      "Epoch 81/400\n",
      "43/43 - 0s - loss: 249.8189\n",
      "Epoch 82/400\n",
      "43/43 - 0s - loss: 254.2341\n",
      "Epoch 83/400\n",
      "43/43 - 0s - loss: 237.6751\n",
      "Epoch 84/400\n",
      "43/43 - 0s - loss: 254.7216\n",
      "Epoch 85/400\n",
      "43/43 - 0s - loss: 289.2843\n",
      "Epoch 86/400\n",
      "43/43 - 0s - loss: 249.7273\n",
      "Epoch 87/400\n",
      "43/43 - 0s - loss: 237.1954\n",
      "Epoch 88/400\n",
      "43/43 - 0s - loss: 259.4837\n",
      "Epoch 89/400\n",
      "43/43 - 0s - loss: 234.1606\n",
      "Epoch 90/400\n",
      "43/43 - 0s - loss: 248.5692\n",
      "Epoch 91/400\n",
      "43/43 - 0s - loss: 234.4772\n",
      "Epoch 92/400\n",
      "43/43 - 0s - loss: 197.9883\n",
      "Epoch 93/400\n",
      "43/43 - 0s - loss: 242.0614\n",
      "Epoch 94/400\n",
      "43/43 - 0s - loss: 205.7018\n",
      "Epoch 95/400\n",
      "43/43 - 0s - loss: 195.9885\n",
      "Epoch 96/400\n",
      "43/43 - 0s - loss: 193.2163\n",
      "Epoch 97/400\n",
      "43/43 - 0s - loss: 186.7893\n",
      "Epoch 98/400\n",
      "43/43 - 0s - loss: 176.8226\n",
      "Epoch 99/400\n",
      "43/43 - 0s - loss: 164.0896\n",
      "Epoch 100/400\n",
      "43/43 - 0s - loss: 172.5832\n",
      "Epoch 101/400\n",
      "43/43 - 0s - loss: 167.4398\n",
      "Epoch 102/400\n",
      "43/43 - 0s - loss: 154.7587\n",
      "Epoch 103/400\n",
      "43/43 - 0s - loss: 173.0075\n",
      "Epoch 104/400\n",
      "43/43 - 0s - loss: 137.8532\n",
      "Epoch 105/400\n",
      "43/43 - 0s - loss: 187.4713\n",
      "Epoch 106/400\n",
      "43/43 - 0s - loss: 159.8106\n",
      "Epoch 107/400\n",
      "43/43 - 0s - loss: 168.5358\n",
      "Epoch 108/400\n",
      "43/43 - 0s - loss: 160.9381\n",
      "Epoch 109/400\n",
      "43/43 - 0s - loss: 141.5317\n",
      "Epoch 110/400\n",
      "43/43 - 0s - loss: 147.6320\n",
      "Epoch 111/400\n",
      "43/43 - 0s - loss: 155.8861\n",
      "Epoch 112/400\n",
      "43/43 - 0s - loss: 147.0702\n",
      "Epoch 113/400\n",
      "43/43 - 0s - loss: 148.5453\n",
      "Epoch 114/400\n",
      "43/43 - 0s - loss: 146.5138\n",
      "Epoch 115/400\n",
      "43/43 - 0s - loss: 143.9704\n",
      "Epoch 116/400\n",
      "43/43 - 0s - loss: 142.7947\n",
      "Epoch 117/400\n",
      "43/43 - 0s - loss: 154.1315\n",
      "Epoch 118/400\n",
      "43/43 - 0s - loss: 164.6403\n",
      "Epoch 119/400\n",
      "43/43 - 0s - loss: 140.5308\n",
      "Epoch 120/400\n",
      "43/43 - 0s - loss: 146.7587\n",
      "Epoch 121/400\n",
      "43/43 - 0s - loss: 149.7828\n",
      "Epoch 122/400\n",
      "43/43 - 0s - loss: 141.3288\n",
      "Epoch 123/400\n",
      "43/43 - 0s - loss: 177.3687\n",
      "Epoch 124/400\n",
      "43/43 - 0s - loss: 142.6092\n",
      "Epoch 125/400\n",
      "43/43 - 0s - loss: 163.4392\n",
      "Epoch 126/400\n",
      "43/43 - 0s - loss: 144.7528\n",
      "Epoch 127/400\n",
      "43/43 - 0s - loss: 143.6656\n",
      "Epoch 128/400\n",
      "43/43 - 0s - loss: 129.7290\n",
      "Epoch 129/400\n",
      "43/43 - 0s - loss: 142.2082\n",
      "Epoch 130/400\n",
      "43/43 - 0s - loss: 152.1114\n",
      "Epoch 131/400\n",
      "43/43 - 0s - loss: 136.9722\n",
      "Epoch 132/400\n",
      "43/43 - 0s - loss: 121.2675\n",
      "Epoch 133/400\n",
      "43/43 - 0s - loss: 146.6998\n",
      "Epoch 134/400\n",
      "43/43 - 0s - loss: 148.0913\n",
      "Epoch 135/400\n",
      "43/43 - 0s - loss: 151.6644\n",
      "Epoch 136/400\n",
      "43/43 - 0s - loss: 138.6536\n",
      "Epoch 137/400\n",
      "43/43 - 0s - loss: 125.2917\n",
      "Epoch 138/400\n",
      "43/43 - 0s - loss: 126.4357\n",
      "Epoch 139/400\n",
      "43/43 - 0s - loss: 127.7066\n",
      "Epoch 140/400\n",
      "43/43 - 0s - loss: 117.5205\n",
      "Epoch 141/400\n",
      "43/43 - 0s - loss: 141.5612\n",
      "Epoch 142/400\n",
      "43/43 - 0s - loss: 156.9818\n",
      "Epoch 143/400\n",
      "43/43 - 0s - loss: 129.8837\n",
      "Epoch 144/400\n",
      "43/43 - 0s - loss: 135.1951\n",
      "Epoch 145/400\n",
      "43/43 - 0s - loss: 130.6152\n",
      "Epoch 146/400\n",
      "43/43 - 0s - loss: 126.1713\n",
      "Epoch 147/400\n",
      "43/43 - 0s - loss: 117.6474\n",
      "Epoch 148/400\n",
      "43/43 - 0s - loss: 123.0253\n",
      "Epoch 149/400\n",
      "43/43 - 0s - loss: 120.3665\n",
      "Epoch 150/400\n",
      "43/43 - 0s - loss: 128.6163\n",
      "Epoch 151/400\n",
      "43/43 - 0s - loss: 143.0900\n",
      "Epoch 152/400\n",
      "43/43 - 0s - loss: 140.3984\n",
      "Epoch 153/400\n",
      "43/43 - 0s - loss: 148.3258\n",
      "Epoch 154/400\n",
      "43/43 - 0s - loss: 127.6192\n",
      "Epoch 155/400\n",
      "43/43 - 0s - loss: 117.8965\n",
      "Epoch 156/400\n",
      "43/43 - 0s - loss: 118.0162\n",
      "Epoch 157/400\n",
      "43/43 - 0s - loss: 115.9678\n",
      "Epoch 158/400\n",
      "43/43 - 0s - loss: 111.3164\n",
      "Epoch 159/400\n",
      "43/43 - 0s - loss: 151.0101\n",
      "Epoch 160/400\n",
      "43/43 - 0s - loss: 134.3196\n",
      "Epoch 161/400\n",
      "43/43 - 0s - loss: 126.0832\n",
      "Epoch 162/400\n",
      "43/43 - 0s - loss: 123.2539\n",
      "Epoch 163/400\n",
      "43/43 - 0s - loss: 115.4603\n",
      "Epoch 164/400\n",
      "43/43 - 0s - loss: 121.1590\n",
      "Epoch 165/400\n",
      "43/43 - 0s - loss: 137.9074\n",
      "Epoch 166/400\n",
      "43/43 - 0s - loss: 122.1616\n",
      "Epoch 167/400\n",
      "43/43 - 0s - loss: 111.3873\n",
      "Epoch 168/400\n",
      "43/43 - 0s - loss: 113.8544\n",
      "Epoch 169/400\n",
      "43/43 - 0s - loss: 110.0988\n",
      "Epoch 170/400\n",
      "43/43 - 0s - loss: 120.4018\n",
      "Epoch 171/400\n",
      "43/43 - 0s - loss: 145.0478\n",
      "Epoch 172/400\n",
      "43/43 - 0s - loss: 163.6963\n",
      "Epoch 173/400\n",
      "43/43 - 0s - loss: 109.2210\n",
      "Epoch 174/400\n",
      "43/43 - 0s - loss: 153.4379\n",
      "Epoch 175/400\n",
      "43/43 - 0s - loss: 105.6734\n",
      "Epoch 176/400\n",
      "43/43 - 0s - loss: 107.2506\n",
      "Epoch 177/400\n",
      "43/43 - 0s - loss: 111.4400\n",
      "Epoch 178/400\n",
      "43/43 - 0s - loss: 107.9599\n",
      "Epoch 179/400\n",
      "43/43 - 0s - loss: 131.8194\n",
      "Epoch 180/400\n",
      "43/43 - 0s - loss: 122.7719\n",
      "Epoch 181/400\n",
      "43/43 - 0s - loss: 122.6823\n",
      "Epoch 182/400\n",
      "43/43 - 0s - loss: 114.7550\n",
      "Epoch 183/400\n",
      "43/43 - 0s - loss: 116.5962\n",
      "Epoch 184/400\n",
      "43/43 - 0s - loss: 111.4262\n",
      "Epoch 185/400\n",
      "43/43 - 0s - loss: 105.7581\n",
      "Epoch 186/400\n",
      "43/43 - 0s - loss: 102.2580\n",
      "Epoch 187/400\n",
      "43/43 - 0s - loss: 104.1681\n",
      "Epoch 188/400\n",
      "43/43 - 0s - loss: 136.2176\n",
      "Epoch 189/400\n",
      "43/43 - 0s - loss: 124.6236\n",
      "Epoch 190/400\n",
      "43/43 - 0s - loss: 143.8359\n",
      "Epoch 191/400\n",
      "43/43 - 0s - loss: 137.6792\n",
      "Epoch 192/400\n",
      "43/43 - 0s - loss: 118.5874\n",
      "Epoch 193/400\n",
      "43/43 - 0s - loss: 153.6768\n",
      "Epoch 194/400\n",
      "43/43 - 0s - loss: 151.1388\n",
      "Epoch 195/400\n",
      "43/43 - 0s - loss: 99.5640\n",
      "Epoch 196/400\n",
      "43/43 - 0s - loss: 117.4244\n",
      "Epoch 197/400\n",
      "43/43 - 0s - loss: 114.0266\n",
      "Epoch 198/400\n",
      "43/43 - 0s - loss: 142.8766\n"
     ]
    },
    {
     "name": "stdout",
     "output_type": "stream",
     "text": [
      "Epoch 199/400\n",
      "43/43 - 0s - loss: 141.7357\n",
      "Epoch 200/400\n",
      "43/43 - 0s - loss: 98.8052\n",
      "Epoch 201/400\n",
      "43/43 - 0s - loss: 103.7210\n",
      "Epoch 202/400\n",
      "43/43 - 0s - loss: 98.0162\n",
      "Epoch 203/400\n",
      "43/43 - 0s - loss: 108.3778\n",
      "Epoch 204/400\n",
      "43/43 - 0s - loss: 125.6964\n",
      "Epoch 205/400\n",
      "43/43 - 0s - loss: 105.7396\n",
      "Epoch 206/400\n",
      "43/43 - 0s - loss: 109.0726\n",
      "Epoch 207/400\n",
      "43/43 - 0s - loss: 109.9139\n",
      "Epoch 208/400\n",
      "43/43 - 0s - loss: 101.3476\n",
      "Epoch 209/400\n",
      "43/43 - 0s - loss: 117.5241\n",
      "Epoch 210/400\n",
      "43/43 - 0s - loss: 100.5477\n",
      "Epoch 211/400\n",
      "43/43 - 0s - loss: 102.8701\n",
      "Epoch 212/400\n",
      "43/43 - 0s - loss: 126.9994\n",
      "Epoch 213/400\n",
      "43/43 - 0s - loss: 99.1631\n",
      "Epoch 214/400\n",
      "43/43 - 0s - loss: 107.2096\n",
      "Epoch 215/400\n",
      "43/43 - 0s - loss: 96.3539\n",
      "Epoch 216/400\n",
      "43/43 - 0s - loss: 101.2405\n",
      "Epoch 217/400\n",
      "43/43 - 0s - loss: 97.8955\n",
      "Epoch 218/400\n",
      "43/43 - 0s - loss: 105.7410\n",
      "Epoch 219/400\n",
      "43/43 - 0s - loss: 135.4393\n",
      "Epoch 220/400\n",
      "43/43 - 0s - loss: 91.9725\n",
      "Epoch 221/400\n",
      "43/43 - 0s - loss: 93.2264\n",
      "Epoch 222/400\n",
      "43/43 - 0s - loss: 103.1114\n",
      "Epoch 223/400\n",
      "43/43 - 0s - loss: 96.6216\n",
      "Epoch 224/400\n",
      "43/43 - 0s - loss: 98.8197\n",
      "Epoch 225/400\n",
      "43/43 - 0s - loss: 107.2876\n",
      "Epoch 226/400\n",
      "43/43 - 0s - loss: 153.6608\n",
      "Epoch 227/400\n",
      "43/43 - 0s - loss: 141.0126\n",
      "Epoch 228/400\n",
      "43/43 - 0s - loss: 119.1509\n",
      "Epoch 229/400\n",
      "43/43 - 0s - loss: 110.5624\n",
      "Epoch 230/400\n",
      "43/43 - 0s - loss: 103.8187\n",
      "Epoch 231/400\n",
      "43/43 - 0s - loss: 126.9989\n",
      "Epoch 232/400\n",
      "43/43 - 0s - loss: 108.8129\n",
      "Epoch 233/400\n",
      "43/43 - 0s - loss: 183.1813\n",
      "Epoch 234/400\n",
      "43/43 - 0s - loss: 100.0895\n",
      "Epoch 235/400\n",
      "43/43 - 0s - loss: 116.7121\n",
      "Epoch 236/400\n",
      "43/43 - 0s - loss: 121.1817\n",
      "Epoch 237/400\n",
      "43/43 - 0s - loss: 121.4614\n",
      "Epoch 238/400\n",
      "43/43 - 0s - loss: 127.2436\n",
      "Epoch 239/400\n",
      "43/43 - 0s - loss: 108.5010\n",
      "Epoch 240/400\n",
      "43/43 - 0s - loss: 105.1333\n",
      "Epoch 241/400\n",
      "43/43 - 0s - loss: 93.6719\n",
      "Epoch 242/400\n",
      "43/43 - 0s - loss: 99.2025\n",
      "Epoch 243/400\n",
      "43/43 - 0s - loss: 104.7010\n",
      "Epoch 244/400\n",
      "43/43 - 0s - loss: 115.8544\n",
      "Epoch 245/400\n",
      "43/43 - 0s - loss: 105.5824\n",
      "Epoch 246/400\n",
      "43/43 - 0s - loss: 106.9259\n",
      "Epoch 247/400\n",
      "43/43 - 0s - loss: 106.4285\n",
      "Epoch 248/400\n",
      "43/43 - 0s - loss: 97.3456\n",
      "Epoch 249/400\n",
      "43/43 - 0s - loss: 105.6293\n",
      "Epoch 250/400\n",
      "43/43 - 0s - loss: 113.6361\n",
      "Epoch 251/400\n",
      "43/43 - 0s - loss: 91.5997\n",
      "Epoch 252/400\n",
      "43/43 - 0s - loss: 98.9959\n",
      "Epoch 253/400\n",
      "43/43 - 0s - loss: 95.2438\n",
      "Epoch 254/400\n",
      "43/43 - 0s - loss: 93.3525\n",
      "Epoch 255/400\n",
      "43/43 - 0s - loss: 102.8098\n",
      "Epoch 256/400\n",
      "43/43 - 0s - loss: 119.5733\n",
      "Epoch 257/400\n",
      "43/43 - 0s - loss: 104.7651\n",
      "Epoch 258/400\n",
      "43/43 - 0s - loss: 89.7969\n",
      "Epoch 259/400\n",
      "43/43 - 0s - loss: 96.8050\n",
      "Epoch 260/400\n",
      "43/43 - 0s - loss: 99.0053\n",
      "Epoch 261/400\n",
      "43/43 - 0s - loss: 103.3061\n",
      "Epoch 262/400\n",
      "43/43 - 0s - loss: 101.3363\n",
      "Epoch 263/400\n",
      "43/43 - 0s - loss: 95.3496\n",
      "Epoch 264/400\n",
      "43/43 - 0s - loss: 92.6124\n",
      "Epoch 265/400\n",
      "43/43 - 0s - loss: 102.9056\n",
      "Epoch 266/400\n",
      "43/43 - 0s - loss: 153.2971\n",
      "Epoch 267/400\n",
      "43/43 - 0s - loss: 108.8315\n",
      "Epoch 268/400\n",
      "43/43 - 0s - loss: 106.5719\n",
      "Epoch 269/400\n",
      "43/43 - 0s - loss: 95.8233\n",
      "Epoch 270/400\n",
      "43/43 - 0s - loss: 129.9152\n",
      "Epoch 271/400\n",
      "43/43 - 0s - loss: 91.5043\n",
      "Epoch 272/400\n",
      "43/43 - 0s - loss: 96.8523\n",
      "Epoch 273/400\n",
      "43/43 - 0s - loss: 106.2687\n",
      "Epoch 274/400\n",
      "43/43 - 0s - loss: 100.8247\n",
      "Epoch 275/400\n",
      "43/43 - 0s - loss: 110.7959\n",
      "Epoch 276/400\n",
      "43/43 - 0s - loss: 101.7606\n",
      "Epoch 277/400\n",
      "43/43 - 0s - loss: 107.3316\n",
      "Epoch 278/400\n",
      "43/43 - 0s - loss: 110.6654\n",
      "Epoch 279/400\n",
      "43/43 - 0s - loss: 111.5786\n",
      "Epoch 280/400\n",
      "43/43 - 0s - loss: 139.7696\n",
      "Epoch 281/400\n",
      "43/43 - 0s - loss: 92.1096\n",
      "Epoch 282/400\n",
      "43/43 - 0s - loss: 100.7214\n",
      "Epoch 283/400\n",
      "43/43 - 0s - loss: 98.8462\n",
      "Epoch 284/400\n",
      "43/43 - 0s - loss: 103.8351\n",
      "Epoch 285/400\n",
      "43/43 - 0s - loss: 90.7293\n",
      "Epoch 286/400\n",
      "43/43 - 0s - loss: 95.8035\n",
      "Epoch 287/400\n",
      "43/43 - 0s - loss: 97.5739\n",
      "Epoch 288/400\n",
      "43/43 - 0s - loss: 108.0268\n",
      "Epoch 289/400\n",
      "43/43 - 0s - loss: 106.8738\n",
      "Epoch 290/400\n",
      "43/43 - 0s - loss: 98.3625\n",
      "Epoch 291/400\n",
      "43/43 - 0s - loss: 92.0038\n",
      "Epoch 292/400\n",
      "43/43 - 0s - loss: 80.5894\n",
      "Epoch 293/400\n",
      "43/43 - 0s - loss: 83.5919\n",
      "Epoch 294/400\n",
      "43/43 - 0s - loss: 91.7435\n",
      "Epoch 295/400\n",
      "43/43 - 0s - loss: 118.2913\n",
      "Epoch 296/400\n",
      "43/43 - 0s - loss: 99.8602\n",
      "Epoch 297/400\n",
      "43/43 - 0s - loss: 112.2641\n",
      "Epoch 298/400\n",
      "43/43 - 0s - loss: 137.0782\n",
      "Epoch 299/400\n",
      "43/43 - 0s - loss: 112.0045\n",
      "Epoch 300/400\n",
      "43/43 - 0s - loss: 89.5121\n",
      "Epoch 301/400\n",
      "43/43 - 0s - loss: 115.1786\n",
      "Epoch 302/400\n",
      "43/43 - 0s - loss: 117.4350\n",
      "Epoch 303/400\n",
      "43/43 - 0s - loss: 98.1584\n",
      "Epoch 304/400\n",
      "43/43 - 0s - loss: 94.2693\n",
      "Epoch 305/400\n",
      "43/43 - 0s - loss: 88.5744\n",
      "Epoch 306/400\n",
      "43/43 - 0s - loss: 88.3331\n",
      "Epoch 307/400\n",
      "43/43 - 0s - loss: 146.9096\n",
      "Epoch 308/400\n",
      "43/43 - 0s - loss: 89.2823\n",
      "Epoch 309/400\n",
      "43/43 - 0s - loss: 94.9464\n",
      "Epoch 310/400\n",
      "43/43 - 0s - loss: 92.7308\n",
      "Epoch 311/400\n",
      "43/43 - 0s - loss: 87.0535\n",
      "Epoch 312/400\n",
      "43/43 - 0s - loss: 90.9068\n",
      "Epoch 313/400\n",
      "43/43 - 0s - loss: 86.5793\n",
      "Epoch 314/400\n",
      "43/43 - 0s - loss: 91.0291\n",
      "Epoch 315/400\n",
      "43/43 - 0s - loss: 90.6812\n",
      "Epoch 316/400\n",
      "43/43 - 0s - loss: 114.7470\n",
      "Epoch 317/400\n",
      "43/43 - 0s - loss: 108.2453\n",
      "Epoch 318/400\n",
      "43/43 - 0s - loss: 93.3984\n",
      "Epoch 319/400\n",
      "43/43 - 0s - loss: 88.5399\n",
      "Epoch 320/400\n",
      "43/43 - 0s - loss: 98.9438\n",
      "Epoch 321/400\n",
      "43/43 - 0s - loss: 107.6466\n",
      "Epoch 322/400\n",
      "43/43 - 0s - loss: 129.2400\n",
      "Epoch 323/400\n",
      "43/43 - 0s - loss: 121.1649\n",
      "Epoch 324/400\n",
      "43/43 - 0s - loss: 170.6837\n",
      "Epoch 325/400\n",
      "43/43 - 0s - loss: 98.3865\n",
      "Epoch 326/400\n",
      "43/43 - 0s - loss: 116.9594\n",
      "Epoch 327/400\n",
      "43/43 - 0s - loss: 88.5672\n",
      "Epoch 328/400\n",
      "43/43 - 0s - loss: 102.2718\n",
      "Epoch 329/400\n",
      "43/43 - 0s - loss: 95.2901\n",
      "Epoch 330/400\n",
      "43/43 - 0s - loss: 112.9640\n",
      "Epoch 331/400\n",
      "43/43 - 0s - loss: 97.5135\n",
      "Epoch 332/400\n",
      "43/43 - 0s - loss: 98.4989\n",
      "Epoch 333/400\n",
      "43/43 - 0s - loss: 97.8369\n",
      "Epoch 334/400\n",
      "43/43 - 0s - loss: 116.8781\n",
      "Epoch 335/400\n",
      "43/43 - 0s - loss: 102.8968\n",
      "Epoch 336/400\n",
      "43/43 - 0s - loss: 90.3384\n",
      "Epoch 337/400\n",
      "43/43 - 0s - loss: 117.0211\n",
      "Epoch 338/400\n",
      "43/43 - 0s - loss: 112.2532\n",
      "Epoch 339/400\n",
      "43/43 - 0s - loss: 101.1369\n",
      "Epoch 340/400\n",
      "43/43 - 0s - loss: 85.5776\n",
      "Epoch 341/400\n",
      "43/43 - 0s - loss: 79.7971\n",
      "Epoch 342/400\n",
      "43/43 - 0s - loss: 78.5745\n",
      "Epoch 343/400\n",
      "43/43 - 0s - loss: 94.2456\n",
      "Epoch 344/400\n",
      "43/43 - 0s - loss: 84.5284\n",
      "Epoch 345/400\n",
      "43/43 - 0s - loss: 93.8235\n",
      "Epoch 346/400\n",
      "43/43 - 0s - loss: 105.8173\n",
      "Epoch 347/400\n",
      "43/43 - 0s - loss: 82.4082\n",
      "Epoch 348/400\n",
      "43/43 - 0s - loss: 82.9883\n",
      "Epoch 349/400\n",
      "43/43 - 0s - loss: 81.7044\n",
      "Epoch 350/400\n",
      "43/43 - 0s - loss: 114.9328\n",
      "Epoch 351/400\n",
      "43/43 - 0s - loss: 94.6816\n",
      "Epoch 352/400\n",
      "43/43 - 0s - loss: 94.3990\n",
      "Epoch 353/400\n",
      "43/43 - 0s - loss: 85.6343\n",
      "Epoch 354/400\n",
      "43/43 - 0s - loss: 91.4881\n",
      "Epoch 355/400\n",
      "43/43 - 0s - loss: 81.2065\n",
      "Epoch 356/400\n",
      "43/43 - 0s - loss: 120.6053\n",
      "Epoch 357/400\n",
      "43/43 - 0s - loss: 92.3113\n",
      "Epoch 358/400\n",
      "43/43 - 0s - loss: 142.4966\n",
      "Epoch 359/400\n",
      "43/43 - 0s - loss: 87.9616\n",
      "Epoch 360/400\n",
      "43/43 - 0s - loss: 88.7216\n",
      "Epoch 361/400\n",
      "43/43 - 0s - loss: 130.2444\n",
      "Epoch 362/400\n",
      "43/43 - 0s - loss: 99.6903\n",
      "Epoch 363/400\n",
      "43/43 - 0s - loss: 79.9369\n",
      "Epoch 364/400\n",
      "43/43 - 0s - loss: 88.7928\n",
      "Epoch 365/400\n",
      "43/43 - 0s - loss: 97.5587\n",
      "Epoch 366/400\n",
      "43/43 - 0s - loss: 89.4760\n",
      "Epoch 367/400\n",
      "43/43 - 0s - loss: 98.7367\n",
      "Epoch 368/400\n",
      "43/43 - 0s - loss: 97.6371\n",
      "Epoch 369/400\n",
      "43/43 - 0s - loss: 84.8492\n",
      "Epoch 370/400\n",
      "43/43 - 0s - loss: 86.4149\n",
      "Epoch 371/400\n",
      "43/43 - 0s - loss: 78.8225\n",
      "Epoch 372/400\n",
      "43/43 - 0s - loss: 95.3532\n",
      "Epoch 373/400\n",
      "43/43 - 0s - loss: 88.8690\n",
      "Epoch 374/400\n",
      "43/43 - 0s - loss: 81.7680\n",
      "Epoch 375/400\n",
      "43/43 - 0s - loss: 82.5968\n",
      "Epoch 376/400\n",
      "43/43 - 0s - loss: 85.7097\n",
      "Epoch 377/400\n",
      "43/43 - 0s - loss: 84.0365\n",
      "Epoch 378/400\n",
      "43/43 - 0s - loss: 88.1008\n",
      "Epoch 379/400\n",
      "43/43 - 0s - loss: 95.8646\n",
      "Epoch 380/400\n",
      "43/43 - 0s - loss: 102.3035\n",
      "Epoch 381/400\n",
      "43/43 - 0s - loss: 83.9881\n",
      "Epoch 382/400\n",
      "43/43 - 0s - loss: 92.7650\n",
      "Epoch 383/400\n",
      "43/43 - 0s - loss: 77.5682\n",
      "Epoch 384/400\n",
      "43/43 - 0s - loss: 112.0942\n",
      "Epoch 385/400\n",
      "43/43 - 0s - loss: 96.8445\n",
      "Epoch 386/400\n",
      "43/43 - 0s - loss: 89.1891\n",
      "Epoch 387/400\n",
      "43/43 - 0s - loss: 88.2866\n",
      "Epoch 388/400\n",
      "43/43 - 0s - loss: 84.1000\n",
      "Epoch 389/400\n",
      "43/43 - 0s - loss: 102.3083\n",
      "Epoch 390/400\n",
      "43/43 - 0s - loss: 91.5899\n",
      "Epoch 391/400\n",
      "43/43 - 0s - loss: 79.9499\n",
      "Epoch 392/400\n",
      "43/43 - 0s - loss: 76.7800\n",
      "Epoch 393/400\n",
      "43/43 - 0s - loss: 99.2231\n",
      "Epoch 394/400\n",
      "43/43 - 0s - loss: 83.3117\n",
      "Epoch 395/400\n",
      "43/43 - 0s - loss: 93.0859\n",
      "Epoch 396/400\n",
      "43/43 - 0s - loss: 92.8371\n"
     ]
    },
    {
     "name": "stdout",
     "output_type": "stream",
     "text": [
      "Epoch 397/400\n",
      "43/43 - 0s - loss: 81.1363\n",
      "Epoch 398/400\n",
      "43/43 - 0s - loss: 110.5386\n",
      "Epoch 399/400\n",
      "43/43 - 0s - loss: 80.5910\n",
      "Epoch 400/400\n",
      "43/43 - 0s - loss: 103.1775\n"
     ]
    },
    {
     "data": {
      "text/plain": [
       "<tensorflow.python.keras.callbacks.History at 0x2655a2c2850>"
      ]
     },
     "execution_count": 251,
     "metadata": {},
     "output_type": "execute_result"
    }
   ],
   "source": [
    "# create and fit Multilayer Perceptron model\n",
    "model = Sequential()\n",
    "model.add(Dense(12, input_dim=look_back, activation='relu'))\n",
    "model.add(Dense(8, activation='relu'))\n",
    "model.add(Dense(1))\n",
    "model.compile(loss='mean_squared_error', optimizer='adam')\n",
    "model.fit(trainX, trainY,epochs=400, batch_size=2, verbose=2)"
   ]
  },
  {
   "cell_type": "code",
   "execution_count": 252,
   "id": "0eed0591",
   "metadata": {},
   "outputs": [
    {
     "name": "stdout",
     "output_type": "stream",
     "text": [
      "Train Score: 117.79 MSE (10.85 RMSE)\n",
      "Test Score: 791.23 MSE (28.13 RMSE)\n"
     ]
    }
   ],
   "source": [
    "# Estimate model performance\n",
    "trainScore = model.evaluate(trainX, trainY, verbose=0)\n",
    "print('Train Score: %.2f MSE (%.2f RMSE)' % (trainScore, math.sqrt(trainScore)))\n",
    "testScore = model.evaluate(testX, testY, verbose=0)\n",
    "print('Test Score: %.2f MSE (%.2f RMSE)' % (testScore, math.sqrt(testScore)))"
   ]
  },
  {
   "cell_type": "markdown",
   "id": "32ef7515",
   "metadata": {},
   "source": [
    "**In first model(timesteps =1) - Taking the square root of the performance estimates, we can see that the model has an average error of 23 passengers (in thousands) on the training dataset and 48 passengers (in thousands) on the test dataset.**\n",
    "\n",
    "**In second model(timesteps = 5) - Taking the square root of the performance estimates, we can see that the model has an average error of 15 passengers (in thousands) on the training dataset and 34 passengers (in thousands) on the test dataset.**\n",
    "\n",
    "**In third model(timesteps = 10) - Taking the square root of the performance estimates, we can see that the model has an average error of 12 passengers (in thousands) on the training dataset and 28 passengers (in thousands) on the test dataset.**\n",
    "\n",
    "**By comparing first and second model second model gave some good results and comapring second model with third model gave better results**\n",
    "\n",
    "**Here timesteps parameter playing major role by in creasing the timesteps number we are increasing model perfomance, So i can i say that model perfomance is directly proportional to model perfomance**\n",
    "\n",
    "...\n",
    "Epoch 195/200\n",
    "0s - loss: 535.3075\n",
    "Epoch 196/200\n",
    "0s - loss: 551.2694\n",
    "Epoch 197/200\n",
    "0s - loss: 543.7834\n",
    "Epoch 198/200\n",
    "0s - loss: 538.5886\n",
    "Epoch 199/200\n",
    "0s - loss: 539.1434\n",
    "Epoch 200/200\n",
    "0s - loss: 533.8347\n",
    "Train Score: 531.71 MSE (23.06 RMSE)\n",
    "Test Score: 2355.06 MSE (48.53 RMSE)\n"
   ]
  },
  {
   "cell_type": "code",
   "execution_count": 253,
   "id": "017251cf",
   "metadata": {},
   "outputs": [
    {
     "name": "stdout",
     "output_type": "stream",
     "text": [
      "[104. 118. 115. 126. 141. 135. 125. 149. 170. 170. 158. 133. 114. 140.\n",
      " 145. 150. 178. 163. 172. 178. 199. 199. 184. 162. 146. 166. 171. 180.\n",
      " 193. 181. 183. 218. 230. 242. 209. 191. 172. 194. 196. 196. 236. 235.\n",
      " 229. 243. 264. 272. 237. 211. 180. 201. 204. 188. 235. 227. 234. 264.\n",
      " 302. 293. 259. 229. 203. 229. 242. 233. 267. 269. 270. 315. 364. 347.\n",
      " 312. 274. 237. 278. 284. 277. 317. 313. 318. 374. 413. 405. 355. 306.\n",
      " 271.]\n"
     ]
    }
   ],
   "source": [
    "print(trainY)"
   ]
  },
  {
   "cell_type": "markdown",
   "id": "cca88c03",
   "metadata": {},
   "source": [
    "**Because of how the dataset was prepared, we must shift the predictions so that they aline on the x-axis with the original dataset. Once prepared, the data is plotted, showing the original dataset in blue, the predictions for the train dataset in green the predictions on the unseen test dataset in red.**"
   ]
  },
  {
   "cell_type": "code",
   "execution_count": 254,
   "id": "1e36c731",
   "metadata": {},
   "outputs": [
    {
     "data": {
      "image/png": "[encoded data removed]",
      "text/plain": [
       "<Figure size 1296x504 with 1 Axes>"
      ]
     },
     "metadata": {
      "needs_background": "light"
     },
     "output_type": "display_data"
    }
   ],
   "source": [
    "# generate predictions for training\n",
    "trainPredict = model.predict(trainX)\n",
    "testPredict = model.predict(testX)\n",
    "# shift train predictions for plotting\n",
    "trainPredictPlot = np.empty_like(air)\n",
    "trainPredictPlot[:, :] = np.nan\n",
    "trainPredictPlot[look_back:len(trainPredict)+look_back, :] = trainPredict\n",
    "# shift test predictions for plotting\n",
    "testPredictPlot = np.empty_like(air)\n",
    "testPredictPlot[:, :] = np.nan\n",
    "testPredictPlot[len(trainPredict)+(look_back*2)+1:len(air)-1, :] = testPredict\n",
    "# plot baseline and predictions\n",
    "plt.figure(figsize=(18,7))\n",
    "plt.plot(air)\n",
    "plt.plot(trainPredictPlot)\n",
    "plt.plot(testPredictPlot)\n",
    "plt.show()"
   ]
  },
  {
   "cell_type": "markdown",
   "id": "6c638657",
   "metadata": {},
   "source": [
    "original dataset in blue \n",
    "\n",
    "the predictions for the train dataset in green \n",
    "\n",
    "the predictions on the unseen test dataset in red."
   ]
  },
  {
   "cell_type": "code",
   "execution_count": 255,
   "id": "51eb3c62",
   "metadata": {},
   "outputs": [
    {
     "data": {
      "text/plain": [
       "48"
      ]
     },
     "execution_count": 255,
     "metadata": {},
     "output_type": "execute_result"
    }
   ],
   "source": [
    "len(test)"
   ]
  },
  {
   "cell_type": "code",
   "execution_count": 256,
   "id": "a4868906",
   "metadata": {},
   "outputs": [
    {
     "data": {
      "text/plain": [
       "(1, 10)"
      ]
     },
     "execution_count": 256,
     "metadata": {},
     "output_type": "execute_result"
    }
   ],
   "source": [
    "x_input=test[38:].reshape(1,-1)\n",
    "x_input.shape"
   ]
  },
  {
   "cell_type": "code",
   "execution_count": 257,
   "id": "1cbc8e83",
   "metadata": {},
   "outputs": [],
   "source": [
    "temp_input=list(x_input)\n",
    "temp_input=temp_input[0].tolist()"
   ]
  },
  {
   "cell_type": "code",
   "execution_count": 258,
   "id": "cae13e06",
   "metadata": {},
   "outputs": [
    {
     "data": {
      "text/plain": [
       "[419.0, 461.0, 472.0, 535.0, 622.0, 606.0, 508.0, 461.0, 390.0, 432.0]"
      ]
     },
     "execution_count": 258,
     "metadata": {},
     "output_type": "execute_result"
    }
   ],
   "source": [
    "temp_input"
   ]
  },
  {
   "cell_type": "markdown",
   "id": "fca209b0",
   "metadata": {},
   "source": [
    "### demonstrate prediction for next 6 months"
   ]
  },
  {
   "cell_type": "code",
   "execution_count": 268,
   "id": "9e68fc26",
   "metadata": {},
   "outputs": [
    {
     "name": "stdout",
     "output_type": "stream",
     "text": [
      "0 month input [508.         461.         390.         432.         472.75912476\n",
      " 429.7298584  509.69049072 517.96630859 535.15045166 605.13116455]\n",
      "0 month output [[691.6982]]\n",
      "1 month input [461.         390.         432.         472.75912476 429.7298584\n",
      " 509.69049072 517.96630859 535.15045166 605.13116455 691.69818115]\n",
      "1 month output [[699.4482]]\n",
      "2 month input [390.         432.         472.75912476 429.7298584  509.69049072\n",
      " 517.96630859 535.15045166 605.13116455 691.69818115 699.44818115]\n",
      "2 month output [[626.6843]]\n",
      "3 month input [432.         472.75912476 429.7298584  509.69049072 517.96630859\n",
      " 535.15045166 605.13116455 691.69818115 699.44818115 626.68432617]\n",
      "3 month output [[548.2534]]\n",
      "4 month input [472.75912476 429.7298584  509.69049072 517.96630859 535.15045166\n",
      " 605.13116455 691.69818115 699.44818115 626.68432617 548.25341797]\n",
      "4 month output [[477.11057]]\n",
      "5 month input [429.7298584  509.69049072 517.96630859 535.15045166 605.13116455\n",
      " 691.69818115 699.44818115 626.68432617 548.25341797 477.11056519]\n",
      "5 month output [[516.76953]]\n",
      "[[691.6981811523438], [699.4481811523438], [626.684326171875], [548.25341796875], [477.1105651855469], [516.76953125]]\n"
     ]
    }
   ],
   "source": [
    "\n",
    "from numpy import array\n",
    "\n",
    "lst_output=[]\n",
    "n_steps=10\n",
    "i=0\n",
    "while(i<6):\n",
    "    \n",
    "    if(len(temp_input)>10):\n",
    "        #print(temp_input)\n",
    "        x_input=np.array(temp_input[1:])\n",
    "        print(\"{} month input {}\".format(i,x_input))\n",
    "        x_input=x_input.reshape(1,-1)\n",
    "        #x_input = x_input.reshape((1, n_steps, 1))\n",
    "        #print(x_input)\n",
    "        yhat = model.predict(x_input, verbose=0)\n",
    "        print(\"{} month output {}\".format(i,yhat))\n",
    "        temp_input.extend(yhat[0].tolist())\n",
    "        temp_input=temp_input[1:]\n",
    "        #print(temp_input)\n",
    "        lst_output.extend(yhat.tolist())\n",
    "        i=i+1\n",
    "    else:\n",
    "        #x_input = x_input.reshape((1,n_steps, i))\n",
    "        yhat = model.predict(x_input, verbose=0)\n",
    "        print(yhat[0])\n",
    "        temp_input.extend(yhat[0].tolist())\n",
    "        print(len(temp_input))\n",
    "        lst_output.extend(yhat.tolist())\n",
    "        i=i+1\n",
    "    \n",
    "print(lst_output)"
   ]
  },
  {
   "cell_type": "code",
   "execution_count": 260,
   "id": "90d92194",
   "metadata": {},
   "outputs": [],
   "source": [
    "month_new=np.arange(1,11)\n",
    "month_pred=np.arange(11,17)"
   ]
  },
  {
   "cell_type": "code",
   "execution_count": 261,
   "id": "9e63ab32",
   "metadata": {},
   "outputs": [],
   "source": [
    "import matplotlib.pyplot as plt"
   ]
  },
  {
   "cell_type": "code",
   "execution_count": 262,
   "id": "13d74009",
   "metadata": {},
   "outputs": [
    {
     "data": {
      "text/plain": [
       "144"
      ]
     },
     "execution_count": 262,
     "metadata": {},
     "output_type": "execute_result"
    }
   ],
   "source": [
    "len(air)"
   ]
  },
  {
   "cell_type": "code",
   "execution_count": 263,
   "id": "a412bc3a",
   "metadata": {},
   "outputs": [
    {
     "data": {
      "text/plain": [
       "Text(0.5, 1.0, 'Air passengers prediction for next 6 months')"
      ]
     },
     "execution_count": 263,
     "metadata": {},
     "output_type": "execute_result"
    },
    {
     "data": {
      "image/png": "[encoded data removed]",
      "text/plain": [
       "<Figure size 1296x504 with 1 Axes>"
      ]
     },
     "metadata": {
      "needs_background": "light"
     },
     "output_type": "display_data"
    }
   ],
   "source": [
    "plt.figure(figsize=(18,7))\n",
    "plt.plot(month_new,(air[134:]))\n",
    "plt.plot(month_pred,(lst_output))\n",
    "plt.title(\"Air passengers prediction for next 6 months\")\n"
   ]
  },
  {
   "cell_type": "markdown",
   "id": "7a0a90c8",
   "metadata": {},
   "source": [
    "**Orange curve indicating the passenger count for next 6 months**"
   ]
  },
  {
   "cell_type": "code",
   "execution_count": 266,
   "id": "1799d825",
   "metadata": {},
   "outputs": [
    {
     "data": {
      "text/plain": [
       "[<matplotlib.lines.Line2D at 0x2655c7228b0>]"
      ]
     },
     "execution_count": 266,
     "metadata": {},
     "output_type": "execute_result"
    },
    {
     "data": {
      "image/png": "[encoded data removed]",
      "text/plain": [
       "<Figure size 1296x504 with 1 Axes>"
      ]
     },
     "metadata": {
      "needs_background": "light"
     },
     "output_type": "display_data"
    }
   ],
   "source": [
    "air1 = air.tolist()\n",
    "air1.extend(lst_output)\n",
    "plt.figure(figsize=(18,7))\n",
    "plt.plot(air1[143:])"
   ]
  },
  {
   "cell_type": "code",
   "execution_count": null,
   "id": "a60a67d7",
   "metadata": {},
   "outputs": [],
   "source": []
  }
 ],
 "metadata": {
  "kernelspec": {
   "display_name": "Python 3",
   "language": "python",
   "name": "python3"
  },
  "language_info": {
   "codemirror_mode": {
    "name": "ipython",
    "version": 3
   },
   "file_extension": ".py",
   "mimetype": "text/x-python",
   "name": "python",
   "nbconvert_exporter": "python",
   "pygments_lexer": "ipython3",
   "version": "3.8.8"
  }
 },
 "nbformat": 4,
 "nbformat_minor": 5
}
