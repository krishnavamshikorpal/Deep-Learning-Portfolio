{
  "nbformat": 4,
  "nbformat_minor": 0,
  "metadata": {
    "colab": {
      "name": "MNIST Hand written numbers.ipynb",
      "provenance": [],
      "collapsed_sections": [],
      "authorship_tag": "ABX9TyPXRGPUQf9p6FZQDxQeM/Gh",
      "include_colab_link": true
    },
    "kernelspec": {
      "name": "python3",
      "display_name": "Python 3"
    },
    "accelerator": "GPU"
  },
  "cells": [
    {
      "cell_type": "markdown",
      "metadata": {
        "id": "view-in-github",
        "colab_type": "text"
      },
      "source": [
        "<a href=\"https://colab.research.google.com/github/krishnavamshikorpal/Deep-Learning-Portfolio/blob/master/MNIST_Hand_written_numbers.ipynb\" target=\"_parent\"><img src=\"https://colab.research.google.com/assets/colab-badge.svg\" alt=\"Open In Colab\"/></a>"
      ]
    },
    {
      "cell_type": "markdown",
      "metadata": {
        "id": "-F5GNmkjktLz"
      },
      "source": [
        "**Import all the required libraries.**"
      ]
    },
    {
      "cell_type": "code",
      "metadata": {
        "id": "1ifhc-gSkpDm"
      },
      "source": [
        "import cv2\n",
        "import numpy as np\n",
        "import matplotlib.pyplot as plt\n",
        "from tensorflow.keras.models import load_model\n",
        "from keras.datasets import mnist\n",
        "from tensorflow.keras.models import Sequential\n",
        "from tensorflow.keras.layers import Conv2D,Flatten,Dropout,Dense,MaxPooling2D\n",
        "from tensorflow.keras.optimizers import SGD\n",
        "from keras.utils import np_utils \n",
        "from keras.preprocessing.image import ImageDataGenerator\n",
        "from keras.callbacks import ReduceLROnPlateau\n",
        "from matplotlib.pyplot import imshow\n",
        "import scipy.misc"
      ],
      "execution_count": null,
      "outputs": []
    },
    {
      "cell_type": "markdown",
      "metadata": {
        "id": "foeyxgwDk_DN"
      },
      "source": [
        "**Importing training and testing data.**"
      ]
    },
    {
      "cell_type": "code",
      "metadata": {
        "id": "pL5QK_B0k3hj",
        "colab": {
          "base_uri": "https://localhost:8080/"
        },
        "outputId": "04901837-f724-4448-9ae6-ba79b8563291"
      },
      "source": [
        "(train_X,train_y),(test_X,test_y) = mnist.load_data()"
      ],
      "execution_count": null,
      "outputs": [
        {
          "output_type": "stream",
          "text": [
            "Downloading data from https://storage.googleapis.com/tensorflow/tf-keras-datasets/mnist.npz\n",
            "11493376/11490434 [==============================] - 0s 0us/step\n",
            "11501568/11490434 [==============================] - 0s 0us/step\n"
          ],
          "name": "stdout"
        }
      ]
    },
    {
      "cell_type": "code",
      "metadata": {
        "colab": {
          "base_uri": "https://localhost:8080/"
        },
        "id": "U543E0BqlIqa",
        "outputId": "72d41f44-2f4a-49ea-b074-29f75f093382"
      },
      "source": [
        "print(\"X Train shape\",train_X.shape)\n",
        "print(\"Y Train shape\",train_y.shape)\n",
        "print(\"X Test shape\",test_X.shape)\n",
        "print(\"Y Test shape\",test_y.shape)"
      ],
      "execution_count": null,
      "outputs": [
        {
          "output_type": "stream",
          "text": [
            "X Train shape (60000, 28, 28)\n",
            "Y Train shape (60000,)\n",
            "X Test shape (10000, 28, 28)\n",
            "Y Test shape (10000,)\n"
          ],
          "name": "stdout"
        }
      ]
    },
    {
      "cell_type": "markdown",
      "metadata": {
        "id": "pIiz_9TIl5sS"
      },
      "source": [
        "So we have 60000 images to train the model and 10000 images to test the model. \n",
        "\n",
        "And (28, 28) is the height and width of the images. we can say image is 28*28 pixels. \n",
        "\n",
        "(60000, 28, 28) ==> (total images, height, width) "
      ]
    },
    {
      "cell_type": "markdown",
      "metadata": {
        "id": "TKz5T4UWnGGd"
      },
      "source": [
        "***Here we are just randomly visualizing our 28X28 images.***"
      ]
    },
    {
      "cell_type": "code",
      "metadata": {
        "colab": {
          "base_uri": "https://localhost:8080/",
          "height": 283
        },
        "id": "8bK7C2ZIlyq7",
        "outputId": "75dbafa6-5a0c-4dc3-8db3-c4c4e02337ef"
      },
      "source": [
        "plt.imshow(train_X[9])"
      ],
      "execution_count": null,
      "outputs": [
        {
          "output_type": "execute_result",
          "data": {
            "text/plain": [
              "<matplotlib.image.AxesImage at 0x7fa0cec13b50>"
            ]
          },
          "metadata": {
            "tags": []
          },
          "execution_count": 4
        },
        {
          "output_type": "display_data",
          "data": {
            "image/png": "[encoded data removed]",
            "text/plain": [
              "<Figure size 432x288 with 1 Axes>"
            ]
          },
          "metadata": {
            "tags": [],
            "needs_background": "light"
          }
        }
      ]
    },
    {
      "cell_type": "code",
      "metadata": {
        "colab": {
          "base_uri": "https://localhost:8080/"
        },
        "id": "JijNHCvonMUj",
        "outputId": "a33beb82-b1fb-409d-fb63-5a82624dee22"
      },
      "source": [
        "#Lets see how train_y looks. train_y contains exact numbers written in the image\n",
        "train_y"
      ],
      "execution_count": null,
      "outputs": [
        {
          "output_type": "execute_result",
          "data": {
            "text/plain": [
              "array([5, 0, 4, ..., 5, 6, 8], dtype=uint8)"
            ]
          },
          "metadata": {
            "tags": []
          },
          "execution_count": 5
        }
      ]
    },
    {
      "cell_type": "code",
      "metadata": {
        "colab": {
          "base_uri": "https://localhost:8080/"
        },
        "id": "aFoLceCGpW-k",
        "outputId": "f3edc50e-c854-41a9-c47c-78ae605e1dd1"
      },
      "source": [
        "test_X[0].shape"
      ],
      "execution_count": null,
      "outputs": [
        {
          "output_type": "execute_result",
          "data": {
            "text/plain": [
              "(28, 28, 1)"
            ]
          },
          "metadata": {
            "tags": []
          },
          "execution_count": 11
        }
      ]
    },
    {
      "cell_type": "markdown",
      "metadata": {
        "id": "Ntq7fobU8KRX"
      },
      "source": [
        " we can.t give data in this format to our data, we need to one hot encode it."
      ]
    },
    {
      "cell_type": "markdown",
      "metadata": {
        "id": "wTm4p-uz8dUp"
      },
      "source": [
        "**Preprocess our training and testing data.**"
      ]
    },
    {
      "cell_type": "code",
      "metadata": {
        "id": "63-HT1_kng4z"
      },
      "source": [
        "#reshaping the data\n",
        "train_X = train_X.reshape(-1,28,28,1)\n",
        "test_X  = test_X.reshape(-1,28,28,1)"
      ],
      "execution_count": null,
      "outputs": []
    },
    {
      "cell_type": "markdown",
      "metadata": {
        "id": "AP6sxy1Y9eG-"
      },
      "source": [
        "Our input shape was (60000,28,28), but Keras wants the data in (60000,28,28,1) format, that’s why we are reshaping it."
      ]
    },
    {
      "cell_type": "code",
      "metadata": {
        "colab": {
          "base_uri": "https://localhost:8080/"
        },
        "id": "6GFwde1c9S20",
        "outputId": "4032d1e4-3a29-45a3-ad3f-14740b14a389"
      },
      "source": [
        "print(\"train X after reshape: \", train_X.shape)\n",
        "print(\"test X after reshape: \", test_X.shape)"
      ],
      "execution_count": null,
      "outputs": [
        {
          "output_type": "stream",
          "text": [
            "train X after reshape:  (60000, 28, 28, 1)\n",
            "test X after reshape:  (10000, 28, 28, 1)\n"
          ],
          "name": "stdout"
        }
      ]
    },
    {
      "cell_type": "markdown",
      "metadata": {
        "id": "BCPIWoAgGFdX"
      },
      "source": [
        "(60000, 28, 28, 1) ==> (Images, height, width, channels) black & white image contains only 1 channel. \n",
        "\n",
        "where coloured images contains 3(red, blue, green)."
      ]
    },
    {
      "cell_type": "code",
      "metadata": {
        "id": "7mCLJ2D-GDUC"
      },
      "source": [
        "#converting to float\n",
        "train_X = train_X.astype('float32')\n",
        "test_X  = test_X.astype('float32')"
      ],
      "execution_count": null,
      "outputs": []
    },
    {
      "cell_type": "code",
      "metadata": {
        "colab": {
          "base_uri": "https://localhost:8080/"
        },
        "id": "Lc9KvKce9aSz",
        "outputId": "cf93fa08-0a95-492e-8693-27a320420184"
      },
      "source": [
        "print(train_X.dtype)\n",
        "print(test_X.dtype)"
      ],
      "execution_count": null,
      "outputs": [
        {
          "output_type": "stream",
          "text": [
            "float32\n",
            "float32\n"
          ],
          "name": "stdout"
        }
      ]
    },
    {
      "cell_type": "code",
      "metadata": {
        "id": "KX7B66U6bcLB"
      },
      "source": [
        "#normalizing the data\n",
        "train_X = train_X/255\n",
        "test_X  = test_X/255"
      ],
      "execution_count": null,
      "outputs": []
    },
    {
      "cell_type": "markdown",
      "metadata": {
        "id": "F9hfB4_XboLM"
      },
      "source": [
        "We are normalizing our image, as we know our grayscale image is just a 2D image with all values ranging in 0-255, that’s why we are diving this image/2D matrix by 255 to bring everything in range 0-1."
      ]
    },
    {
      "cell_type": "code",
      "metadata": {
        "id": "NFc5MP-Zbm7n"
      },
      "source": [
        "#converting train and test labels to categorical buy changing it will easy to read the loss value easily\n",
        "train_y = np_utils.to_categorical(train_y)\n",
        "test_y  = np_utils.to_categorical(test_y)"
      ],
      "execution_count": null,
      "outputs": []
    },
    {
      "cell_type": "markdown",
      "metadata": {
        "id": "R-HFgQKicCS6"
      },
      "source": [
        "– One Hot encode the labels. Previously at 1st index we had 1 but now a 10 element array will be there which is [1,0,0,0,0,0,0,0,0,0] where 1 depicts the presence of that number. 1 is present at 0 index means this array represents number 0. This whole thing is shown below."
      ]
    },
    {
      "cell_type": "code",
      "metadata": {
        "colab": {
          "base_uri": "https://localhost:8080/"
        },
        "id": "LMIb11NQcBen",
        "outputId": "854dcf25-64f5-4def-cd55-cd23f3341040"
      },
      "source": [
        "train_y[1]"
      ],
      "execution_count": null,
      "outputs": [
        {
          "output_type": "execute_result",
          "data": {
            "text/plain": [
              "array([1., 0., 0., 0., 0., 0., 0., 0., 0., 0.], dtype=float32)"
            ]
          },
          "metadata": {
            "tags": []
          },
          "execution_count": 21
        }
      ]
    },
    {
      "cell_type": "code",
      "metadata": {
        "colab": {
          "base_uri": "https://localhost:8080/"
        },
        "id": "YbtMdWm7cQtv",
        "outputId": "6bec1b73-3ddd-407e-f7e1-eb372d6d87ca"
      },
      "source": [
        "test_y[1]"
      ],
      "execution_count": null,
      "outputs": [
        {
          "output_type": "execute_result",
          "data": {
            "text/plain": [
              "array([0., 0., 1., 0., 0., 0., 0., 0., 0., 0.], dtype=float32)"
            ]
          },
          "metadata": {
            "tags": []
          },
          "execution_count": 19
        }
      ]
    },
    {
      "cell_type": "markdown",
      "metadata": {
        "id": "qr-iLpiCcdri"
      },
      "source": [
        "**Let’s create our CNN model for MNIST Handwritten number recognition**"
      ]
    },
    {
      "cell_type": "code",
      "metadata": {
        "id": "SG5JrDwlcXjA"
      },
      "source": [
        "model = Sequential()\n",
        "model.add(Conv2D(32, kernel_size=(3,3), activation='relu',input_shape=(28,28,1), padding='SAME'))\n",
        "model.add(MaxPooling2D(pool_size=(2,2)))\n",
        "\n",
        "model.add(Conv2D(64,(3,3),activation='relu',padding='SAME'))\n",
        "model.add(MaxPooling2D(pool_size=(2,2)))\n",
        "model.add(Dropout(0.25))\n",
        "\n",
        "model.add(Flatten())\n",
        "model.add(Dense(128,activation='relu'))\n",
        "model.add(Dropout(0.5))\n",
        "model.add(Dense(10,activation='softmax'))\n",
        "model.compile(loss='categorical_crossentropy', optimizer=SGD(0.01), metrics=['accuracy'])\n"
      ],
      "execution_count": null,
      "outputs": []
    },
    {
      "cell_type": "code",
      "metadata": {
        "colab": {
          "base_uri": "https://localhost:8080/"
        },
        "id": "0aKOZma5eq6Q",
        "outputId": "63e3b436-2bbb-4a4e-ea4b-84a93e85801b"
      },
      "source": [
        "model.summary()"
      ],
      "execution_count": null,
      "outputs": [
        {
          "output_type": "stream",
          "text": [
            "Model: \"sequential\"\n",
            "_________________________________________________________________\n",
            "Layer (type)                 Output Shape              Param #   \n",
            "=================================================================\n",
            "conv2d (Conv2D)              (None, 28, 28, 32)        320       \n",
            "_________________________________________________________________\n",
            "max_pooling2d (MaxPooling2D) (None, 14, 14, 32)        0         \n",
            "_________________________________________________________________\n",
            "conv2d_1 (Conv2D)            (None, 14, 14, 64)        18496     \n",
            "_________________________________________________________________\n",
            "max_pooling2d_1 (MaxPooling2 (None, 7, 7, 64)          0         \n",
            "_________________________________________________________________\n",
            "dropout (Dropout)            (None, 7, 7, 64)          0         \n",
            "_________________________________________________________________\n",
            "flatten (Flatten)            (None, 3136)              0         \n",
            "_________________________________________________________________\n",
            "dense (Dense)                (None, 128)               401536    \n",
            "_________________________________________________________________\n",
            "dropout_1 (Dropout)          (None, 128)               0         \n",
            "_________________________________________________________________\n",
            "dense_1 (Dense)              (None, 10)                1290      \n",
            "=================================================================\n",
            "Total params: 421,642\n",
            "Trainable params: 421,642\n",
            "Non-trainable params: 0\n",
            "_________________________________________________________________\n"
          ],
          "name": "stdout"
        }
      ]
    },
    {
      "cell_type": "code",
      "metadata": {
        "id": "1RVHkZKRrmRY"
      },
      "source": [
        "# Set a learning rate annealer\n",
        "reduce_lr = ReduceLROnPlateau(monitor='val_accuracy', \n",
        "                                patience=3, \n",
        "                                verbose=1, \n",
        "                                factor=0.2, \n",
        "                                min_lr=1e-6)"
      ],
      "execution_count": null,
      "outputs": []
    },
    {
      "cell_type": "code",
      "metadata": {
        "id": "SKV7o1thryBU"
      },
      "source": [
        "# Data Augmentation\n",
        "datagen = ImageDataGenerator(\n",
        "            rotation_range=10, \n",
        "            width_shift_range=0.1, \n",
        "            height_shift_range=0.1, \n",
        "            zoom_range=0.1)\n",
        "datagen.fit(train_X)"
      ],
      "execution_count": null,
      "outputs": []
    },
    {
      "cell_type": "markdown",
      "metadata": {
        "id": "FalJD_8te5Nt"
      },
      "source": [
        "**Let’s train our model**"
      ]
    },
    {
      "cell_type": "code",
      "metadata": {
        "colab": {
          "base_uri": "https://localhost:8080/"
        },
        "id": "tPB91IoOevDQ",
        "outputId": "aa0a161e-2f71-4dd2-b81d-b856e04bba9c"
      },
      "source": [
        "batch_size=128\n",
        "epochs=30\n",
        "plotting_data = model.fit_generator(datagen.flow(train_X, train_y, batch_size=batch_size), steps_per_epoch=len(train_X)/batch_size,\n",
        "                                    epochs=epochs, validation_data = (test_X, test_y), callbacks=[reduce_lr])"
      ],
      "execution_count": null,
      "outputs": [
        {
          "output_type": "stream",
          "text": [
            "/usr/local/lib/python3.7/dist-packages/tensorflow/python/keras/engine/training.py:1940: UserWarning: `Model.fit_generator` is deprecated and will be removed in a future version. Please use `Model.fit`, which supports generators.\n",
            "  warnings.warn('`Model.fit_generator` is deprecated and '\n"
          ],
          "name": "stderr"
        },
        {
          "output_type": "stream",
          "text": [
            "Epoch 1/30\n",
            "468/468 [==============================] - 53s 53ms/step - loss: 1.9947 - accuracy: 0.3067 - val_loss: 0.9226 - val_accuracy: 0.7782\n",
            "Epoch 2/30\n",
            "468/468 [==============================] - 24s 52ms/step - loss: 1.3046 - accuracy: 0.5587 - val_loss: 0.4944 - val_accuracy: 0.8812\n",
            "Epoch 3/30\n",
            "468/468 [==============================] - 24s 52ms/step - loss: 0.9679 - accuracy: 0.6831 - val_loss: 0.3029 - val_accuracy: 0.9248\n",
            "Epoch 4/30\n",
            "468/468 [==============================] - 25s 53ms/step - loss: 0.7277 - accuracy: 0.7672 - val_loss: 0.2045 - val_accuracy: 0.9483\n",
            "Epoch 5/30\n",
            "468/468 [==============================] - 24s 52ms/step - loss: 0.5806 - accuracy: 0.8166 - val_loss: 0.1627 - val_accuracy: 0.9530\n",
            "Epoch 6/30\n",
            "468/468 [==============================] - 24s 52ms/step - loss: 0.4990 - accuracy: 0.8433 - val_loss: 0.1380 - val_accuracy: 0.9590\n",
            "Epoch 7/30\n",
            "468/468 [==============================] - 25s 53ms/step - loss: 0.4389 - accuracy: 0.8633 - val_loss: 0.1201 - val_accuracy: 0.9621\n",
            "Epoch 8/30\n",
            "468/468 [==============================] - 25s 54ms/step - loss: 0.4033 - accuracy: 0.8741 - val_loss: 0.1072 - val_accuracy: 0.9663\n",
            "Epoch 9/30\n",
            "468/468 [==============================] - 25s 53ms/step - loss: 0.3671 - accuracy: 0.8870 - val_loss: 0.0969 - val_accuracy: 0.9673\n",
            "Epoch 10/30\n",
            "468/468 [==============================] - 25s 54ms/step - loss: 0.3482 - accuracy: 0.8931 - val_loss: 0.0910 - val_accuracy: 0.9712\n",
            "Epoch 11/30\n",
            "468/468 [==============================] - 25s 53ms/step - loss: 0.3268 - accuracy: 0.9006 - val_loss: 0.0827 - val_accuracy: 0.9735\n",
            "Epoch 12/30\n",
            "468/468 [==============================] - 25s 54ms/step - loss: 0.3073 - accuracy: 0.9066 - val_loss: 0.0767 - val_accuracy: 0.9754\n",
            "Epoch 13/30\n",
            "468/468 [==============================] - 25s 53ms/step - loss: 0.2977 - accuracy: 0.9090 - val_loss: 0.0722 - val_accuracy: 0.9766\n",
            "Epoch 14/30\n",
            "468/468 [==============================] - 25s 52ms/step - loss: 0.2817 - accuracy: 0.9123 - val_loss: 0.0682 - val_accuracy: 0.9778\n",
            "Epoch 15/30\n",
            "468/468 [==============================] - 25s 54ms/step - loss: 0.2709 - accuracy: 0.9188 - val_loss: 0.0641 - val_accuracy: 0.9801\n",
            "Epoch 16/30\n",
            "468/468 [==============================] - 24s 52ms/step - loss: 0.2612 - accuracy: 0.9199 - val_loss: 0.0615 - val_accuracy: 0.9798\n",
            "Epoch 17/30\n",
            "468/468 [==============================] - 24s 52ms/step - loss: 0.2500 - accuracy: 0.9232 - val_loss: 0.0581 - val_accuracy: 0.9809\n",
            "Epoch 18/30\n",
            "468/468 [==============================] - 24s 52ms/step - loss: 0.2417 - accuracy: 0.9263 - val_loss: 0.0561 - val_accuracy: 0.9816\n",
            "Epoch 19/30\n",
            "468/468 [==============================] - 24s 52ms/step - loss: 0.2392 - accuracy: 0.9272 - val_loss: 0.0552 - val_accuracy: 0.9819\n",
            "Epoch 20/30\n",
            "468/468 [==============================] - 24s 51ms/step - loss: 0.2320 - accuracy: 0.9286 - val_loss: 0.0524 - val_accuracy: 0.9822\n",
            "Epoch 21/30\n",
            "468/468 [==============================] - 25s 53ms/step - loss: 0.2231 - accuracy: 0.9305 - val_loss: 0.0514 - val_accuracy: 0.9826\n",
            "Epoch 22/30\n",
            "468/468 [==============================] - 25s 52ms/step - loss: 0.2196 - accuracy: 0.9333 - val_loss: 0.0497 - val_accuracy: 0.9832\n",
            "Epoch 23/30\n",
            "468/468 [==============================] - 25s 53ms/step - loss: 0.2159 - accuracy: 0.9338 - val_loss: 0.0465 - val_accuracy: 0.9837\n",
            "Epoch 24/30\n",
            "468/468 [==============================] - 24s 52ms/step - loss: 0.2107 - accuracy: 0.9352 - val_loss: 0.0471 - val_accuracy: 0.9857\n",
            "Epoch 25/30\n",
            "468/468 [==============================] - 25s 53ms/step - loss: 0.2051 - accuracy: 0.9377 - val_loss: 0.0452 - val_accuracy: 0.9863\n",
            "Epoch 26/30\n",
            "468/468 [==============================] - 25s 54ms/step - loss: 0.2023 - accuracy: 0.9386 - val_loss: 0.0434 - val_accuracy: 0.9857\n",
            "Epoch 27/30\n",
            "468/468 [==============================] - 24s 51ms/step - loss: 0.1983 - accuracy: 0.9394 - val_loss: 0.0421 - val_accuracy: 0.9865\n",
            "Epoch 28/30\n",
            "468/468 [==============================] - 24s 51ms/step - loss: 0.1936 - accuracy: 0.9407 - val_loss: 0.0404 - val_accuracy: 0.9863\n",
            "Epoch 29/30\n",
            "468/468 [==============================] - 24s 52ms/step - loss: 0.1904 - accuracy: 0.9418 - val_loss: 0.0404 - val_accuracy: 0.9869\n",
            "Epoch 30/30\n",
            "468/468 [==============================] - 23s 50ms/step - loss: 0.1885 - accuracy: 0.9429 - val_loss: 0.0397 - val_accuracy: 0.9869\n"
          ],
          "name": "stdout"
        }
      ]
    },
    {
      "cell_type": "markdown",
      "metadata": {
        "id": "dLf6WPO8gswk"
      },
      "source": [
        "**Evaluating Model**"
      ]
    },
    {
      "cell_type": "code",
      "metadata": {
        "colab": {
          "base_uri": "https://localhost:8080/"
        },
        "id": "foUwMIhNfjDo",
        "outputId": "f411f7b6-747a-4411-e85b-b37c56ccc604"
      },
      "source": [
        "loss,accuracy = model.evaluate(test_X,test_y,verbose=0)\n",
        "print('Test loss ---> ',str(round(loss*100,2)) +str('%'))\n",
        "print('Test accuracy ---> ',str(round(accuracy*100,2)) +str('%'))"
      ],
      "execution_count": null,
      "outputs": [
        {
          "output_type": "stream",
          "text": [
            "Test loss --->  3.97%\n",
            "Test accuracy --->  98.69%\n"
          ],
          "name": "stdout"
        }
      ]
    },
    {
      "cell_type": "markdown",
      "metadata": {
        "id": "RMk-50MbhNSk"
      },
      "source": [
        "**Plot the results**"
      ]
    },
    {
      "cell_type": "code",
      "metadata": {
        "colab": {
          "base_uri": "https://localhost:8080/",
          "height": 283
        },
        "id": "HqepVZ4Jg0uZ",
        "outputId": "311bd830-abad-4c67-8c1f-74193f91d197"
      },
      "source": [
        "plotting_data_dict = plotting_data.history\n",
        "test_loss = plotting_data_dict['val_loss']\n",
        "training_loss = plotting_data_dict['loss']\n",
        "test_accuracy = plotting_data_dict['val_accuracy']\n",
        "training_accuracy = plotting_data_dict['accuracy']\n",
        "epochs = range(1,len(test_loss)+1)\n",
        "plt.plot(epochs,test_loss,marker='X',label='test_loss')\n",
        "plt.plot(epochs,training_loss,marker='X',label='training_loss')\n",
        "plt.legend()"
      ],
      "execution_count": null,
      "outputs": [
        {
          "output_type": "execute_result",
          "data": {
            "text/plain": [
              "<matplotlib.legend.Legend at 0x7fa025910690>"
            ]
          },
          "metadata": {
            "tags": []
          },
          "execution_count": 30
        },
        {
          "output_type": "display_data",
          "data": {
            "image/png": "[encoded data removed]",
            "text/plain": [
              "<Figure size 432x288 with 1 Axes>"
            ]
          },
          "metadata": {
            "tags": [],
            "needs_background": "light"
          }
        }
      ]
    },
    {
      "cell_type": "code",
      "metadata": {
        "colab": {
          "base_uri": "https://localhost:8080/",
          "height": 283
        },
        "id": "fiLX7eRPiahw",
        "outputId": "bfe77059-f577-47e6-e1d8-193012376efc"
      },
      "source": [
        "plt.plot(epochs,test_accuracy,marker='X',label='test_accuracy')\n",
        "plt.plot(epochs,training_accuracy,marker='X',label='training_accuracy')\n",
        "plt.legend()"
      ],
      "execution_count": null,
      "outputs": [
        {
          "output_type": "execute_result",
          "data": {
            "text/plain": [
              "<matplotlib.legend.Legend at 0x7fa0261d7190>"
            ]
          },
          "metadata": {
            "tags": []
          },
          "execution_count": 31
        },
        {
          "output_type": "display_data",
          "data": {
            "image/png": "[encoded data removed]",
            "text/plain": [
              "<Figure size 432x288 with 1 Axes>"
            ]
          },
          "metadata": {
            "tags": [],
            "needs_background": "light"
          }
        }
      ]
    },
    {
      "cell_type": "markdown",
      "metadata": {
        "id": "HYQyvS7yi5El"
      },
      "source": [
        "**Saving the model**"
      ]
    },
    {
      "cell_type": "code",
      "metadata": {
        "colab": {
          "base_uri": "https://localhost:8080/"
        },
        "id": "YRhDqxiFirS4",
        "outputId": "a3fe03c7-721f-43b4-c1fb-54711f5eb53c"
      },
      "source": [
        "model.save('MNIST_30_epochs')\n",
        "print('Model Saved !!!')"
      ],
      "execution_count": null,
      "outputs": [
        {
          "output_type": "stream",
          "text": [
            "INFO:tensorflow:Assets written to: MNIST_30_epochs/assets\n",
            "Model Saved !!!\n"
          ],
          "name": "stdout"
        }
      ]
    },
    {
      "cell_type": "markdown",
      "metadata": {
        "id": "QxTxRvWnlgIg"
      },
      "source": [
        "**Loading saved model**"
      ]
    },
    {
      "cell_type": "code",
      "metadata": {
        "colab": {
          "base_uri": "https://localhost:8080/"
        },
        "id": "DkQlpbRdlZCe",
        "outputId": "720be3e1-221e-4b75-a58c-a94910e6a0a4"
      },
      "source": [
        "#loading and evaluating the saved model\n",
        "from numpy import loadtxt\n",
        "from keras.models import load_model\n",
        "\n",
        "model = load_model(\"/content/MNIST_30_epochs\")\n",
        "print(\"Model loaded\")\n",
        "model.summary()"
      ],
      "execution_count": null,
      "outputs": [
        {
          "output_type": "stream",
          "text": [
            "Model loaded\n",
            "Model: \"sequential\"\n",
            "_________________________________________________________________\n",
            "Layer (type)                 Output Shape              Param #   \n",
            "=================================================================\n",
            "conv2d (Conv2D)              (None, 28, 28, 32)        320       \n",
            "_________________________________________________________________\n",
            "max_pooling2d (MaxPooling2D) (None, 14, 14, 32)        0         \n",
            "_________________________________________________________________\n",
            "conv2d_1 (Conv2D)            (None, 14, 14, 64)        18496     \n",
            "_________________________________________________________________\n",
            "max_pooling2d_1 (MaxPooling2 (None, 7, 7, 64)          0         \n",
            "_________________________________________________________________\n",
            "dropout (Dropout)            (None, 7, 7, 64)          0         \n",
            "_________________________________________________________________\n",
            "flatten (Flatten)            (None, 3136)              0         \n",
            "_________________________________________________________________\n",
            "dense (Dense)                (None, 128)               401536    \n",
            "_________________________________________________________________\n",
            "dropout_1 (Dropout)          (None, 128)               0         \n",
            "_________________________________________________________________\n",
            "dense_1 (Dense)              (None, 10)                1290      \n",
            "=================================================================\n",
            "Total params: 421,642\n",
            "Trainable params: 421,642\n",
            "Non-trainable params: 0\n",
            "_________________________________________________________________\n"
          ],
          "name": "stdout"
        }
      ]
    },
    {
      "cell_type": "markdown",
      "metadata": {
        "id": "ZnT2S0E92es1"
      },
      "source": [
        "**Testing model with outside images**"
      ]
    },
    {
      "cell_type": "code",
      "metadata": {
        "colab": {
          "base_uri": "https://localhost:8080/",
          "height": 287
        },
        "id": "Q3Up84a3i7Co",
        "outputId": "3e5eb21c-d018-4b1c-bc98-ebcfee7966bb"
      },
      "source": [
        "image = plt.imread(\"/content/WhatsApp Image 2021-07-22 at 4.51.51 PM.jpeg\")\n",
        "plt.imshow(image)"
      ],
      "execution_count": null,
      "outputs": [
        {
          "output_type": "execute_result",
          "data": {
            "text/plain": [
              "<matplotlib.image.AxesImage at 0x7fa01f491150>"
            ]
          },
          "metadata": {
            "tags": []
          },
          "execution_count": 48
        },
        {
          "output_type": "display_data",
          "data": {
            "image/png": "[encoded data removed]",
            "text/plain": [
              "<Figure size 432x288 with 1 Axes>"
            ]
          },
          "metadata": {
            "tags": [],
            "needs_background": "light"
          }
        }
      ]
    },
    {
      "cell_type": "code",
      "metadata": {
        "colab": {
          "base_uri": "https://localhost:8080/"
        },
        "id": "lgKikqvRmcfQ",
        "outputId": "71e9c37d-9637-4bd8-8101-cbd93a472b60"
      },
      "source": [
        "import tensorflow as tf\n",
        "from keras_preprocessing import image\n",
        "images = image.load_img(\"/content/WhatsApp Image 2021-07-22 at 4.51.51 PM.jpeg\", target_size=(28, 28))    \n",
        "x = image.img_to_array(images)\n",
        "x = tf.image.rgb_to_grayscale(x)\n",
        "x = np.expand_dims(x, axis=0)\n",
        "x = x/255.0\n",
        "\n",
        "model = tf.keras.models.load_model('/content/MNIST_30_epochs')\n",
        "model.predict(x).argmax()"
      ],
      "execution_count": null,
      "outputs": [
        {
          "output_type": "execute_result",
          "data": {
            "text/plain": [
              "8"
            ]
          },
          "metadata": {
            "tags": []
          },
          "execution_count": 59
        }
      ]
    },
    {
      "cell_type": "code",
      "metadata": {
        "colab": {
          "base_uri": "https://localhost:8080/"
        },
        "id": "z4YfmkSW3xZa",
        "outputId": "47f8475e-65c4-4f95-bc1a-6b287ff98455"
      },
      "source": [
        "# #Check the prediction for your own image\n",
        "# img = cv2.imread(\"/content/WhatsApp Image 2021-07-22 at 4.51.51 PM.jpeg\",0)\n",
        "# img = cv2.resize(img, (28, 28))\n",
        "# img = np.reshape(img, [1, 28, 28, 1])\n",
        "# print(np.argmax(model.predict(img)))\n",
        "# plt.imread('/content/WhatsApp Image 2021-07-22 at 4.51.51 PM.jpeg')\n",
        "# print(\"class prediction vector [p(0), p(1), p(2), p(3), p(4), p(5)] = \")\n",
        "# model = tf.keras.models.load_model('/content/MNIST_30_epochs')\n",
        "# model.predict_proba(img)"
      ],
      "execution_count": null,
      "outputs": [
        {
          "output_type": "stream",
          "text": [
            "0\n",
            "class prediction vector [p(0), p(1), p(2), p(3), p(4), p(5)] = \n"
          ],
          "name": "stdout"
        },
        {
          "output_type": "stream",
          "text": [
            "/usr/local/lib/python3.7/dist-packages/tensorflow/python/keras/engine/sequential.py:430: UserWarning: `model.predict_proba()` is deprecated and will be removed after 2021-01-01. Please use `model.predict()` instead.\n",
            "  warnings.warn('`model.predict_proba()` is deprecated and '\n"
          ],
          "name": "stderr"
        },
        {
          "output_type": "execute_result",
          "data": {
            "text/plain": [
              "array([[1.000000e+00, 0.000000e+00, 0.000000e+00, 0.000000e+00,\n",
              "        0.000000e+00, 0.000000e+00, 0.000000e+00, 0.000000e+00,\n",
              "        5.746289e-15, 0.000000e+00]], dtype=float32)"
            ]
          },
          "metadata": {
            "tags": []
          },
          "execution_count": 58
        }
      ]
    },
    {
      "cell_type": "code",
      "metadata": {
        "id": "tL4gtkSi4EfL"
      },
      "source": [
        ""
      ],
      "execution_count": null,
      "outputs": []
    }
  ]
}